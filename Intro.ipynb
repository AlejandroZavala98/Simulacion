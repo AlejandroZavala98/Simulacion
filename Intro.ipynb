{
 "cells": [
  {
   "cell_type": "markdown",
   "id": "33055d35",
   "metadata": {},
   "source": [
    "# Introducción\n",
    "\n",
    "## ¿Qué es la simulación?\n",
    "\n",
    "La simulación sirve para\n",
    "\n",
    "1. Asimilar problemas de la vida real\n",
    "2. Predecir un fenómeno\n",
    "3. Control de procesos\n",
    "\n",
    "## Métodos para generar números aleatorios\n",
    "\n",
    "### Método del cuadrado medio\n",
    "\n",
    "### Método de congruencia modular\n",
    "\n",
    "### Método del azar"
   ]
  }
 ],
 "metadata": {
  "kernelspec": {
   "display_name": "Python 3",
   "language": "python",
   "name": "python3"
  },
  "language_info": {
   "codemirror_mode": {
    "name": "ipython",
    "version": 3
   },
   "file_extension": ".py",
   "mimetype": "text/x-python",
   "name": "python",
   "nbconvert_exporter": "python",
   "pygments_lexer": "ipython3",
   "version": "3.9.5"
  }
 },
 "nbformat": 4,
 "nbformat_minor": 5
}

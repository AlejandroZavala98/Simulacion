{
 "cells": [
  {
   "cell_type": "markdown",
   "id": "3f8d56e6",
   "metadata": {},
   "source": [
    "# Generando numeros aleatorios por funciones integradas de python"
   ]
  },
  {
   "cell_type": "code",
   "execution_count": 1,
   "id": "b272ed43",
   "metadata": {},
   "outputs": [],
   "source": [
    "import random\n",
    "import numpy as np\n",
    "import matplotlib.pyplot as plt"
   ]
  },
  {
   "cell_type": "markdown",
   "id": "bc19913a",
   "metadata": {},
   "source": [
    "Generando un número aleatorio (uniforme en 0-1)"
   ]
  },
  {
   "cell_type": "code",
   "execution_count": 2,
   "id": "773827b7",
   "metadata": {},
   "outputs": [
    {
     "data": {
      "text/plain": [
       "0.031036077064560907"
      ]
     },
     "execution_count": 2,
     "metadata": {},
     "output_type": "execute_result"
    }
   ],
   "source": [
    "random.random()"
   ]
  },
  {
   "cell_type": "markdown",
   "id": "c395b462",
   "metadata": {},
   "source": [
    "Generando 10000 números aleatorios"
   ]
  },
  {
   "cell_type": "code",
   "execution_count": 3,
   "id": "edd9e319",
   "metadata": {},
   "outputs": [],
   "source": [
    "random_list = []\n",
    "for number_ in range(0,10000):\n",
    "    random_list.append(random.random())\n",
    "random_10000 = np.array(random_list)"
   ]
  },
  {
   "cell_type": "markdown",
   "id": "6e5c5751",
   "metadata": {},
   "source": [
    "Mostrando los primeros 10 números generados"
   ]
  },
  {
   "cell_type": "code",
   "execution_count": 4,
   "id": "fffdcf88",
   "metadata": {},
   "outputs": [
    {
     "data": {
      "text/plain": [
       "array([0.07261861, 0.05157866, 0.58510124, 0.65176751, 0.73759789,\n",
       "       0.89934952, 0.86859226, 0.86927188, 0.14631867, 0.30888753])"
      ]
     },
     "execution_count": 4,
     "metadata": {},
     "output_type": "execute_result"
    }
   ],
   "source": [
    "random_10000[0:10]"
   ]
  },
  {
   "cell_type": "code",
   "execution_count": 5,
   "id": "83b87c79",
   "metadata": {},
   "outputs": [
    {
     "data": {
      "image/png": "[encoded data removed]",
      "text/plain": [
       "<Figure size 432x288 with 1 Axes>"
      ]
     },
     "metadata": {
      "needs_background": "light"
     },
     "output_type": "display_data"
    }
   ],
   "source": [
    "plt.hist(random_10000, color='magenta',rwidth=0.85,density=True)\n",
    "plt.xlabel('Clases')\n",
    "plt.ylabel('Frecuencia')\n",
    "plt.title(\"Números pseudo-aleatorios\", \n",
    "          fontdict={'family': 'serif', \n",
    "                    'color' : 'darkblue',\n",
    "                    'weight': 'bold',\n",
    "                    'size': 18})\n",
    "plt.show()"
   ]
  }
 ],
 "metadata": {
  "kernelspec": {
   "display_name": "Python 3",
   "language": "python",
   "name": "python3"
  },
  "language_info": {
   "codemirror_mode": {
    "name": "ipython",
    "version": 3
   },
   "file_extension": ".py",
   "mimetype": "text/x-python",
   "name": "python",
   "nbconvert_exporter": "python",
   "pygments_lexer": "ipython3",
   "version": "3.9.5"
  }
 },
 "nbformat": 4,
 "nbformat_minor": 5
}

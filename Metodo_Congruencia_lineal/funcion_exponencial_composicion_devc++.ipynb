{
 "cells": [
  {
   "cell_type": "markdown",
   "id": "2d6eb5a1",
   "metadata": {},
   "source": [
    "# Funcion exponencial DEV C++"
   ]
  },
  {
   "cell_type": "markdown",
   "id": "9577d17c",
   "metadata": {},
   "source": [
    "Para la función de probabilidad\n",
    "\n",
    "$$ f(x) = e^{-x} \\\\ 0 < x < \\infty $$"
   ]
  },
  {
   "cell_type": "code",
   "execution_count": 1,
   "id": "ab179780",
   "metadata": {},
   "outputs": [],
   "source": [
    "import random\n",
    "import pandas as pd\n",
    "import matplotlib.pyplot as plt\n",
    "import os"
   ]
  },
  {
   "cell_type": "code",
   "execution_count": 2,
   "id": "33bd0e0c",
   "metadata": {},
   "outputs": [
    {
     "name": "stdout",
     "output_type": "stream",
     "text": [
      "C:\\Users\\aleja\\Alejandro\\Simulacion\\Metodo_Congruencia_lineal\n"
     ]
    }
   ],
   "source": [
    "print(os.getcwd())"
   ]
  },
  {
   "cell_type": "code",
   "execution_count": 3,
   "id": "6e4fea22",
   "metadata": {},
   "outputs": [
    {
     "name": "stdout",
     "output_type": "stream",
     "text": [
      "['exponencial_v1.txt', 'exponencial_v2.txt', 'laplace.txt', 'uniforme_0_1.txt']\n"
     ]
    }
   ],
   "source": [
    "print(os.listdir(\"C:/Users/aleja/Alejandro/Simulacion/Metodo_Congruencia_lineal/Numeros_generados_por_funcion_requerida\"))"
   ]
  },
  {
   "cell_type": "code",
   "execution_count": 4,
   "id": "cfc49993",
   "metadata": {},
   "outputs": [],
   "source": [
    "path = \"C:/Users/aleja/Alejandro/Simulacion/Metodo_Congruencia_lineal/Numeros_generados_por_funcion_requerida/\""
   ]
  },
  {
   "cell_type": "code",
   "execution_count": 5,
   "id": "8101a94a",
   "metadata": {},
   "outputs": [
    {
     "data": {
      "text/html": [
       "<div>\n",
       "<style scoped>\n",
       "    .dataframe tbody tr th:only-of-type {\n",
       "        vertical-align: middle;\n",
       "    }\n",
       "\n",
       "    .dataframe tbody tr th {\n",
       "        vertical-align: top;\n",
       "    }\n",
       "\n",
       "    .dataframe thead th {\n",
       "        text-align: right;\n",
       "    }\n",
       "</style>\n",
       "<table border=\"1\" class=\"dataframe\">\n",
       "  <thead>\n",
       "    <tr style=\"text-align: right;\">\n",
       "      <th></th>\n",
       "      <th>Exponencial_v1</th>\n",
       "    </tr>\n",
       "  </thead>\n",
       "  <tbody>\n",
       "    <tr>\n",
       "      <th>0</th>\n",
       "      <td>1.225760</td>\n",
       "    </tr>\n",
       "    <tr>\n",
       "      <th>1</th>\n",
       "      <td>0.326664</td>\n",
       "    </tr>\n",
       "    <tr>\n",
       "      <th>2</th>\n",
       "      <td>2.093750</td>\n",
       "    </tr>\n",
       "    <tr>\n",
       "      <th>3</th>\n",
       "      <td>1.400090</td>\n",
       "    </tr>\n",
       "    <tr>\n",
       "      <th>4</th>\n",
       "      <td>0.124182</td>\n",
       "    </tr>\n",
       "  </tbody>\n",
       "</table>\n",
       "</div>"
      ],
      "text/plain": [
       "   Exponencial_v1\n",
       "0        1.225760\n",
       "1        0.326664\n",
       "2        2.093750\n",
       "3        1.400090\n",
       "4        0.124182"
      ]
     },
     "execution_count": 5,
     "metadata": {},
     "output_type": "execute_result"
    }
   ],
   "source": [
    "random_numbers_v1 = pd.read_table( path + 'exponencial_v1.txt')\n",
    "random_numbers_v1.head()"
   ]
  },
  {
   "cell_type": "code",
   "execution_count": 6,
   "id": "6647bc78",
   "metadata": {},
   "outputs": [
    {
     "name": "stdout",
     "output_type": "stream",
     "text": [
      "Promedio:  1.0153225820005\n",
      "Varianza:  1.02749490594223\n"
     ]
    }
   ],
   "source": [
    "n = len(random_numbers_v1)\n",
    "promedio_num1 = random_numbers_v1[\"Exponencial_v1\"].mean()\n",
    "varianza_num1 = (n/(n-1))*random_numbers_v1[\"Exponencial_v1\"].var()\n",
    "\n",
    "print(\"Promedio: \", promedio_num1)\n",
    "print(\"Varianza: \", varianza_num1)"
   ]
  },
  {
   "cell_type": "code",
   "execution_count": 7,
   "id": "de582dd2",
   "metadata": {},
   "outputs": [
    {
     "data": {
      "image/png": "[encoded data removed]",
      "text/plain": [
       "<Figure size 720x432 with 1 Axes>"
      ]
     },
     "metadata": {
      "needs_background": "light"
     },
     "output_type": "display_data"
    }
   ],
   "source": [
    "plt.figure(figsize=(10,6))\n",
    "plt.hist(random_numbers_v1[\"Exponencial_v1\"], edgecolor = \"black\", linewidth=2 , density = True)\n",
    "plt.title(\"Variables Exponenciales Version 1 DEV C++\",fontsize=20)\n",
    "plt.xlabel(\"Clases\", fontsize=15)\n",
    "plt.ylabel(\"Frecuencia\", fontsize=15)\n",
    "plt.show()"
   ]
  },
  {
   "cell_type": "markdown",
   "id": "47107251",
   "metadata": {},
   "source": [
    "# Una version mejorada\n",
    "\n",
    "Notemos que para una version un tanto \"mejor\" podemos hacer el cambio \n",
    "\n",
    "$$ 1 - u \\sim u $$\n",
    "\n",
    "Es decir, si:\n",
    "\n",
    "$$ U \\sim Uniforme(0,1) \\Rightarrow 1-U \\sim Uniforme(0,1) $$\n"
   ]
  },
  {
   "cell_type": "code",
   "execution_count": 8,
   "id": "5a095f41",
   "metadata": {},
   "outputs": [
    {
     "data": {
      "text/html": [
       "<div>\n",
       "<style scoped>\n",
       "    .dataframe tbody tr th:only-of-type {\n",
       "        vertical-align: middle;\n",
       "    }\n",
       "\n",
       "    .dataframe tbody tr th {\n",
       "        vertical-align: top;\n",
       "    }\n",
       "\n",
       "    .dataframe thead th {\n",
       "        text-align: right;\n",
       "    }\n",
       "</style>\n",
       "<table border=\"1\" class=\"dataframe\">\n",
       "  <thead>\n",
       "    <tr style=\"text-align: right;\">\n",
       "      <th></th>\n",
       "      <th>Exponencial_v2</th>\n",
       "    </tr>\n",
       "  </thead>\n",
       "  <tbody>\n",
       "    <tr>\n",
       "      <th>0</th>\n",
       "      <td>0.347481</td>\n",
       "    </tr>\n",
       "    <tr>\n",
       "      <th>1</th>\n",
       "      <td>1.277710</td>\n",
       "    </tr>\n",
       "    <tr>\n",
       "      <th>2</th>\n",
       "      <td>0.131503</td>\n",
       "    </tr>\n",
       "    <tr>\n",
       "      <th>3</th>\n",
       "      <td>0.283124</td>\n",
       "    </tr>\n",
       "    <tr>\n",
       "      <th>4</th>\n",
       "      <td>2.147450</td>\n",
       "    </tr>\n",
       "  </tbody>\n",
       "</table>\n",
       "</div>"
      ],
      "text/plain": [
       "   Exponencial_v2\n",
       "0        0.347481\n",
       "1        1.277710\n",
       "2        0.131503\n",
       "3        0.283124\n",
       "4        2.147450"
      ]
     },
     "execution_count": 8,
     "metadata": {},
     "output_type": "execute_result"
    }
   ],
   "source": [
    "random_numbers_v2 = pd.read_table( path + 'exponencial_v2.txt')\n",
    "random_numbers_v2.head()"
   ]
  },
  {
   "cell_type": "code",
   "execution_count": 9,
   "id": "13d4d874",
   "metadata": {},
   "outputs": [
    {
     "name": "stdout",
     "output_type": "stream",
     "text": [
      "Promedio:  0.986604017712589\n",
      "Varianza:  0.9626618999670326\n"
     ]
    }
   ],
   "source": [
    "n2 = len(random_numbers_v2)\n",
    "promedio_num2 = random_numbers_v2[\"Exponencial_v2\"].mean()\n",
    "varianza_num2 = (n2/(n2-1))*random_numbers_v2[\"Exponencial_v2\"].var()\n",
    "\n",
    "print(\"Promedio: \", promedio_num2)\n",
    "print(\"Varianza: \", varianza_num2)"
   ]
  },
  {
   "cell_type": "code",
   "execution_count": 10,
   "id": "62bd999b",
   "metadata": {},
   "outputs": [
    {
     "data": {
      "image/png": "[encoded data removed]",
      "text/plain": [
       "<Figure size 720x432 with 1 Axes>"
      ]
     },
     "metadata": {
      "needs_background": "light"
     },
     "output_type": "display_data"
    }
   ],
   "source": [
    "plt.figure(figsize=(10,6))\n",
    "plt.hist(random_numbers_v2[\"Exponencial_v2\"], edgecolor = \"black\", linewidth=2 , density = True)\n",
    "plt.title(\"Variables Exponenciales Version 2 DEV C++\",fontsize=20)\n",
    "plt.xlabel(\"Clases\", fontsize=15)\n",
    "plt.ylabel(\"Frecuencia\", fontsize=15)\n",
    "plt.show()"
   ]
  }
 ],
 "metadata": {
  "kernelspec": {
   "display_name": "Python 3",
   "language": "python",
   "name": "python3"
  },
  "language_info": {
   "codemirror_mode": {
    "name": "ipython",
    "version": 3
   },
   "file_extension": ".py",
   "mimetype": "text/x-python",
   "name": "python",
   "nbconvert_exporter": "python",
   "pygments_lexer": "ipython3",
   "version": "3.9.5"
  }
 },
 "nbformat": 4,
 "nbformat_minor": 5
}

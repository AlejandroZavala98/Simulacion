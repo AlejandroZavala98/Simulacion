{
 "cells": [
  {
   "cell_type": "markdown",
   "id": "67cd2254",
   "metadata": {},
   "source": [
    "# Método de congruencia lineal modular\n",
    "\n",
    "En esta carpeta se anexa el codigo para generar numeros aleatorios por el método de congruencia lineal modular\n",
    "\n",
    "- El código fue escrito en C++, pero se subiran archivos en formato de texto (.txt) o en archivos separados por comas (.csv)\n",
    "\n",
    "- Esto para leer los números generados con el código de C++ y ocupar esos números para el analisis deseado\n",
    "\n",
    "- Se plantea generar 10,000 numeros por comparación (Si el analisis de algun programa requiere mas, se anexaran)\n",
    "\n",
    "Nota: el punto de usar python sera **solamente para la visualización de los números generados por congruencia modular, visualizar su distribución o cualquier tema referente a la comparación. NO IMPLEMENTACIÓN EN PYTHON** \n",
    "\n",
    "Los metodos para generar distribuciones o funciones requeridas **no se subira**, recordando la importancia de la generación de números pseudo-aleatorios\n",
    "\n",
    "El programa base se encuentra en la carpeta Generador_numeros_aleatorios. En esa carpeta se anexa el código del generador de números y un ejemplo de los números generados (10 de ejemplo)"
   ]
  }
 ],
 "metadata": {
  "kernelspec": {
   "display_name": "Python 3",
   "language": "python",
   "name": "python3"
  },
  "language_info": {
   "codemirror_mode": {
    "name": "ipython",
    "version": 3
   },
   "file_extension": ".py",
   "mimetype": "text/x-python",
   "name": "python",
   "nbconvert_exporter": "python",
   "pygments_lexer": "ipython3",
   "version": "3.9.5"
  }
 },
 "nbformat": 4,
 "nbformat_minor": 5
}

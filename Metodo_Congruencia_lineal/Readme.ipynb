{
 "cells": [
  {
   "cell_type": "markdown",
   "id": "67cd2254",
   "metadata": {},
   "source": [
    "# Método de congruencia lineal modular\n",
    "\n",
    "En esta carpeta se anexa el codigo para generar numeros aleatorios por el método de congruencia lineal modular\n",
    "\n",
    "- El código fue escrito en C++, pero se subiran archivos en formato de texto (.txt) o en archivos separados por comas (.csv)\n",
    "\n",
    "- Esto para leer los números generados con el código de C++ y ocupar esos números para el analisis deseado\n",
    "\n",
    "- Se plantea generar 10,000 numeros por comparación (4 conjuntos de números pseudo aleatorios)"
   ]
  }
 ],
 "metadata": {
  "kernelspec": {
   "display_name": "Python 3",
   "language": "python",
   "name": "python3"
  },
  "language_info": {
   "codemirror_mode": {
    "name": "ipython",
    "version": 3
   },
   "file_extension": ".py",
   "mimetype": "text/x-python",
   "name": "python",
   "nbconvert_exporter": "python",
   "pygments_lexer": "ipython3",
   "version": "3.9.5"
  }
 },
 "nbformat": 4,
 "nbformat_minor": 5
}

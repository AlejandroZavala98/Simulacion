{
 "cells": [
  {
   "cell_type": "markdown",
   "id": "2d6eb5a1",
   "metadata": {},
   "source": [
    "# Funcion Uniforme en [a,b] DEV C++"
   ]
  },
  {
   "cell_type": "code",
   "execution_count": 1,
   "id": "ab179780",
   "metadata": {},
   "outputs": [],
   "source": [
    "import pandas as pd\n",
    "import matplotlib.pyplot as plt\n",
    "import os"
   ]
  },
  {
   "cell_type": "code",
   "execution_count": 2,
   "id": "33bd0e0c",
   "metadata": {},
   "outputs": [
    {
     "name": "stdout",
     "output_type": "stream",
     "text": [
      "C:\\Users\\aleja\\Alejandro\\Simulacion\\Metodo_Congruencia_lineal\n"
     ]
    }
   ],
   "source": [
    "print(os.getcwd())"
   ]
  },
  {
   "cell_type": "code",
   "execution_count": 3,
   "id": "6e4fea22",
   "metadata": {},
   "outputs": [
    {
     "name": "stdout",
     "output_type": "stream",
     "text": [
      "['exponencial_v1.txt', 'exponencial_v2.txt', 'funcion_radial.txt', 'laplace.txt', 'suma_uniformes.txt', 'uniforme_-2_10.txt', 'uniforme_0_1.txt', 'uniforme_0_2pi.txt']\n"
     ]
    }
   ],
   "source": [
    "print(os.listdir(\"C:/Users/aleja/Alejandro/Simulacion/Metodo_Congruencia_lineal/Numeros_generados_por_funcion_requerida\"))"
   ]
  },
  {
   "cell_type": "code",
   "execution_count": 4,
   "id": "cfc49993",
   "metadata": {},
   "outputs": [],
   "source": [
    "path = \"C:/Users/aleja/Alejandro/Simulacion/Metodo_Congruencia_lineal/Numeros_generados_por_funcion_requerida/\""
   ]
  },
  {
   "cell_type": "code",
   "execution_count": 5,
   "id": "8101a94a",
   "metadata": {},
   "outputs": [
    {
     "data": {
      "text/html": [
       "<div>\n",
       "<style scoped>\n",
       "    .dataframe tbody tr th:only-of-type {\n",
       "        vertical-align: middle;\n",
       "    }\n",
       "\n",
       "    .dataframe tbody tr th {\n",
       "        vertical-align: top;\n",
       "    }\n",
       "\n",
       "    .dataframe thead th {\n",
       "        text-align: right;\n",
       "    }\n",
       "</style>\n",
       "<table border=\"1\" class=\"dataframe\">\n",
       "  <thead>\n",
       "    <tr style=\"text-align: right;\">\n",
       "      <th></th>\n",
       "      <th>Uniforme_0_2pi</th>\n",
       "    </tr>\n",
       "  </thead>\n",
       "  <tbody>\n",
       "    <tr>\n",
       "      <th>0</th>\n",
       "      <td>0.774238</td>\n",
       "    </tr>\n",
       "    <tr>\n",
       "      <th>1</th>\n",
       "      <td>6.192620</td>\n",
       "    </tr>\n",
       "    <tr>\n",
       "      <th>2</th>\n",
       "      <td>0.316248</td>\n",
       "    </tr>\n",
       "    <tr>\n",
       "      <th>3</th>\n",
       "      <td>4.031480</td>\n",
       "    </tr>\n",
       "    <tr>\n",
       "      <th>4</th>\n",
       "      <td>2.968480</td>\n",
       "    </tr>\n",
       "  </tbody>\n",
       "</table>\n",
       "</div>"
      ],
      "text/plain": [
       "   Uniforme_0_2pi\n",
       "0        0.774238\n",
       "1        6.192620\n",
       "2        0.316248\n",
       "3        4.031480\n",
       "4        2.968480"
      ]
     },
     "execution_count": 5,
     "metadata": {},
     "output_type": "execute_result"
    }
   ],
   "source": [
    "random_numbers1 = pd.read_table( path + 'uniforme_0_2pi.txt')\n",
    "random_numbers1.head()"
   ]
  },
  {
   "cell_type": "code",
   "execution_count": 6,
   "id": "6647bc78",
   "metadata": {},
   "outputs": [
    {
     "name": "stdout",
     "output_type": "stream",
     "text": [
      "Promedio:  3.1133258562161603\n",
      "Varianza:  3.3012931933158662\n"
     ]
    }
   ],
   "source": [
    "n1 = len(random_numbers1)\n",
    "promedio_num1 = random_numbers1[\"Uniforme_0_2pi\"].mean()\n",
    "varianza_num1 = (n1/(n1-1))*random_numbers1[\"Uniforme_0_2pi\"].var()\n",
    "\n",
    "print(\"Promedio: \", promedio_num1)\n",
    "print(\"Varianza: \", varianza_num1)"
   ]
  },
  {
   "cell_type": "code",
   "execution_count": 7,
   "id": "de582dd2",
   "metadata": {},
   "outputs": [
    {
     "data": {
      "image/png": "[encoded data removed]",
      "text/plain": [
       "<Figure size 720x432 with 1 Axes>"
      ]
     },
     "metadata": {
      "needs_background": "light"
     },
     "output_type": "display_data"
    }
   ],
   "source": [
    "plt.figure(figsize=(10,6))\n",
    "plt.hist(random_numbers1[\"Uniforme_0_2pi\"], color = 'purple', edgecolor = \"black\", linewidth=2 , density = True)\n",
    "plt.title(\"Variables Uniformes en [ 0 , 2pi] DEV C++\",fontsize=20)\n",
    "plt.xlabel(\"Clases\", fontsize=15)\n",
    "plt.ylabel(\"Frecuencia\", fontsize=15)\n",
    "plt.show()"
   ]
  },
  {
   "cell_type": "markdown",
   "id": "7ed41163",
   "metadata": {},
   "source": [
    "# Otro ejemplo"
   ]
  },
  {
   "cell_type": "code",
   "execution_count": 9,
   "id": "f5534206",
   "metadata": {},
   "outputs": [
    {
     "data": {
      "text/html": [
       "<div>\n",
       "<style scoped>\n",
       "    .dataframe tbody tr th:only-of-type {\n",
       "        vertical-align: middle;\n",
       "    }\n",
       "\n",
       "    .dataframe tbody tr th {\n",
       "        vertical-align: top;\n",
       "    }\n",
       "\n",
       "    .dataframe thead th {\n",
       "        text-align: right;\n",
       "    }\n",
       "</style>\n",
       "<table border=\"1\" class=\"dataframe\">\n",
       "  <thead>\n",
       "    <tr style=\"text-align: right;\">\n",
       "      <th></th>\n",
       "      <th>Uniforme_-2_10</th>\n",
       "    </tr>\n",
       "  </thead>\n",
       "  <tbody>\n",
       "    <tr>\n",
       "      <th>0</th>\n",
       "      <td>6.65591</td>\n",
       "    </tr>\n",
       "    <tr>\n",
       "      <th>1</th>\n",
       "      <td>8.59862</td>\n",
       "    </tr>\n",
       "    <tr>\n",
       "      <th>2</th>\n",
       "      <td>7.35533</td>\n",
       "    </tr>\n",
       "    <tr>\n",
       "      <th>3</th>\n",
       "      <td>8.87691</td>\n",
       "    </tr>\n",
       "    <tr>\n",
       "      <th>4</th>\n",
       "      <td>2.29323</td>\n",
       "    </tr>\n",
       "  </tbody>\n",
       "</table>\n",
       "</div>"
      ],
      "text/plain": [
       "   Uniforme_-2_10\n",
       "0         6.65591\n",
       "1         8.59862\n",
       "2         7.35533\n",
       "3         8.87691\n",
       "4         2.29323"
      ]
     },
     "execution_count": 9,
     "metadata": {},
     "output_type": "execute_result"
    }
   ],
   "source": [
    "random_numbers2 = pd.read_table( path + 'uniforme_-2_10.txt')\n",
    "random_numbers2.head()"
   ]
  },
  {
   "cell_type": "code",
   "execution_count": 10,
   "id": "01993ba7",
   "metadata": {},
   "outputs": [
    {
     "name": "stdout",
     "output_type": "stream",
     "text": [
      "Promedio:  4.01308117314825\n",
      "Varianza:  11.893013621517184\n"
     ]
    }
   ],
   "source": [
    "n2 = len(random_numbers2)\n",
    "promedio_num2 = random_numbers2[\"Uniforme_-2_10\"].mean()\n",
    "varianza_num2 = (n2/(n2-1))*random_numbers2[\"Uniforme_-2_10\"].var()\n",
    "\n",
    "print(\"Promedio: \", promedio_num2)\n",
    "print(\"Varianza: \", varianza_num2)"
   ]
  },
  {
   "cell_type": "code",
   "execution_count": 12,
   "id": "34247b65",
   "metadata": {},
   "outputs": [
    {
     "data": {
      "image/png": "[encoded data removed]",
      "text/plain": [
       "<Figure size 720x432 with 1 Axes>"
      ]
     },
     "metadata": {
      "needs_background": "light"
     },
     "output_type": "display_data"
    }
   ],
   "source": [
    "plt.figure(figsize=(10,6))\n",
    "plt.hist(random_numbers2[\"Uniforme_-2_10\"], color = 'fuchsia', edgecolor = \"black\", linewidth=2 , density = True)\n",
    "plt.title(\"Variables Uniformes en [ -2 , 10] DEV C++\",fontsize=20)\n",
    "plt.xlabel(\"Clases\", fontsize=15)\n",
    "plt.ylabel(\"Frecuencia\", fontsize=15)\n",
    "plt.show()"
   ]
  }
 ],
 "metadata": {
  "kernelspec": {
   "display_name": "Python 3",
   "language": "python",
   "name": "python3"
  },
  "language_info": {
   "codemirror_mode": {
    "name": "ipython",
    "version": 3
   },
   "file_extension": ".py",
   "mimetype": "text/x-python",
   "name": "python",
   "nbconvert_exporter": "python",
   "pygments_lexer": "ipython3",
   "version": "3.9.5"
  }
 },
 "nbformat": 4,
 "nbformat_minor": 5
}

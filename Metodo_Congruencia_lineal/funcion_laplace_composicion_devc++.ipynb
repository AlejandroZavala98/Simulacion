{
 "cells": [
  {
   "cell_type": "markdown",
   "id": "2d6eb5a1",
   "metadata": {},
   "source": [
    "# Funcion de Laplace por composicion DEV C++"
   ]
  },
  {
   "cell_type": "markdown",
   "id": "9577d17c",
   "metadata": {},
   "source": [
    "La funcion de Laplace definida por:\n",
    "\n",
    "$$ f(x) = \\left \\{ \\begin{matrix} \\frac{1}{2} e^{x} & \\mbox{si }\\mbox{ x<0}\n",
    "\\\\  \\frac{1}{2} e^{-x} & \\mbox{si }\\mbox{ x>0}\\end{matrix}\\right. $$"
   ]
  },
  {
   "cell_type": "code",
   "execution_count": 1,
   "id": "ab179780",
   "metadata": {},
   "outputs": [],
   "source": [
    "import random\n",
    "import pandas as pd\n",
    "import matplotlib.pyplot as plt\n",
    "import os"
   ]
  },
  {
   "cell_type": "code",
   "execution_count": 2,
   "id": "33bd0e0c",
   "metadata": {},
   "outputs": [
    {
     "name": "stdout",
     "output_type": "stream",
     "text": [
      "C:\\Users\\aleja\\Alejandro\\Simulacion\\Metodo_Congruencia_lineal\n"
     ]
    }
   ],
   "source": [
    "print(os.getcwd())"
   ]
  },
  {
   "cell_type": "code",
   "execution_count": 3,
   "id": "6e4fea22",
   "metadata": {},
   "outputs": [
    {
     "name": "stdout",
     "output_type": "stream",
     "text": [
      "['laplace.txt', 'uniforme_0_1.txt']\n"
     ]
    }
   ],
   "source": [
    "print(os.listdir(\"C:/Users/aleja/Alejandro/Simulacion/Metodo_Congruencia_lineal/Numeros_generados_por_funcion_requerida\"))"
   ]
  },
  {
   "cell_type": "code",
   "execution_count": 4,
   "id": "cfc49993",
   "metadata": {},
   "outputs": [],
   "source": [
    "path = \"C:/Users/aleja/Alejandro/Simulacion/Metodo_Congruencia_lineal/Numeros_generados_por_funcion_requerida/\""
   ]
  },
  {
   "cell_type": "code",
   "execution_count": 5,
   "id": "8101a94a",
   "metadata": {},
   "outputs": [
    {
     "data": {
      "text/html": [
       "<div>\n",
       "<style scoped>\n",
       "    .dataframe tbody tr th:only-of-type {\n",
       "        vertical-align: middle;\n",
       "    }\n",
       "\n",
       "    .dataframe tbody tr th {\n",
       "        vertical-align: top;\n",
       "    }\n",
       "\n",
       "    .dataframe thead th {\n",
       "        text-align: right;\n",
       "    }\n",
       "</style>\n",
       "<table border=\"1\" class=\"dataframe\">\n",
       "  <thead>\n",
       "    <tr style=\"text-align: right;\">\n",
       "      <th></th>\n",
       "      <th>Laplace_Number</th>\n",
       "    </tr>\n",
       "  </thead>\n",
       "  <tbody>\n",
       "    <tr>\n",
       "      <th>0</th>\n",
       "      <td>-0.326664</td>\n",
       "    </tr>\n",
       "    <tr>\n",
       "      <th>1</th>\n",
       "      <td>-1.400090</td>\n",
       "    </tr>\n",
       "    <tr>\n",
       "      <th>2</th>\n",
       "      <td>0.014518</td>\n",
       "    </tr>\n",
       "    <tr>\n",
       "      <th>3</th>\n",
       "      <td>0.248961</td>\n",
       "    </tr>\n",
       "    <tr>\n",
       "      <th>4</th>\n",
       "      <td>-0.916104</td>\n",
       "    </tr>\n",
       "  </tbody>\n",
       "</table>\n",
       "</div>"
      ],
      "text/plain": [
       "   Laplace_Number\n",
       "0       -0.326664\n",
       "1       -1.400090\n",
       "2        0.014518\n",
       "3        0.248961\n",
       "4       -0.916104"
      ]
     },
     "execution_count": 5,
     "metadata": {},
     "output_type": "execute_result"
    }
   ],
   "source": [
    "random_numbers = pd.read_table( path + 'laplace.txt')\n",
    "random_numbers.head()"
   ]
  },
  {
   "cell_type": "code",
   "execution_count": 7,
   "id": "6647bc78",
   "metadata": {},
   "outputs": [
    {
     "name": "stdout",
     "output_type": "stream",
     "text": [
      "Promedio:  -0.0160170150363\n",
      "Varianza:  2.045489968909118\n"
     ]
    }
   ],
   "source": [
    "n = len(random_numbers)\n",
    "promedio_num1 = random_numbers[\"Laplace_Number\"].mean()\n",
    "varianza_num1 = (n/(n-1))*random_numbers[\"Laplace_Number\"].var()\n",
    "\n",
    "print(\"Promedio: \", promedio_num1)\n",
    "print(\"Varianza: \", varianza_num1)"
   ]
  },
  {
   "cell_type": "code",
   "execution_count": 8,
   "id": "de582dd2",
   "metadata": {},
   "outputs": [
    {
     "data": {
      "image/png": "[encoded data removed]",
      "text/plain": [
       "<Figure size 720x432 with 1 Axes>"
      ]
     },
     "metadata": {
      "needs_background": "light"
     },
     "output_type": "display_data"
    }
   ],
   "source": [
    "plt.figure(figsize=(10,6))\n",
    "plt.hist(random_numbers[\"Laplace_Number\"], color = 'darkorchid', edgecolor = \"black\", linewidth=2 , density = True)\n",
    "plt.title(\"Variables aleatorias de Laplace DEV C++\",fontsize=20)\n",
    "plt.xlabel(\"Clases\", fontsize=15)\n",
    "plt.ylabel(\"Frecuencia\", fontsize=15)\n",
    "plt.show()"
   ]
  }
 ],
 "metadata": {
  "kernelspec": {
   "display_name": "Python 3",
   "language": "python",
   "name": "python3"
  },
  "language_info": {
   "codemirror_mode": {
    "name": "ipython",
    "version": 3
   },
   "file_extension": ".py",
   "mimetype": "text/x-python",
   "name": "python",
   "nbconvert_exporter": "python",
   "pygments_lexer": "ipython3",
   "version": "3.9.5"
  }
 },
 "nbformat": 4,
 "nbformat_minor": 5
}

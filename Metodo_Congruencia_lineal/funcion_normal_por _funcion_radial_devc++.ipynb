{
 "cells": [
  {
   "cell_type": "markdown",
   "id": "2d6eb5a1",
   "metadata": {},
   "source": [
    "# Funcion Normal por fucion radial DEV C++"
   ]
  },
  {
   "cell_type": "code",
   "execution_count": 1,
   "id": "ab179780",
   "metadata": {},
   "outputs": [],
   "source": [
    "import random\n",
    "import pandas as pd\n",
    "import matplotlib.pyplot as plt\n",
    "import os"
   ]
  },
  {
   "cell_type": "code",
   "execution_count": 2,
   "id": "33bd0e0c",
   "metadata": {},
   "outputs": [
    {
     "name": "stdout",
     "output_type": "stream",
     "text": [
      "C:\\Users\\aleja\\Alejandro\\Simulacion\\Metodo_Congruencia_lineal\n"
     ]
    }
   ],
   "source": [
    "print(os.getcwd())"
   ]
  },
  {
   "cell_type": "code",
   "execution_count": 3,
   "id": "6e4fea22",
   "metadata": {},
   "outputs": [
    {
     "name": "stdout",
     "output_type": "stream",
     "text": [
      "['exponencial_v1.txt', 'exponencial_v2.txt', 'funcion_radial.txt', 'laplace.txt', 'Marsaglia_Normales.txt', 'Normales_por_radial.txt', 'suma_uniformes.txt', 'uniforme_-2_10.txt', 'uniforme_0_1.txt', 'uniforme_0_2pi.txt']\n"
     ]
    }
   ],
   "source": [
    "print(os.listdir(\"C:/Users/aleja/Alejandro/Simulacion/Metodo_Congruencia_lineal/Numeros_generados_por_funcion_requerida\"))"
   ]
  },
  {
   "cell_type": "code",
   "execution_count": 4,
   "id": "cfc49993",
   "metadata": {},
   "outputs": [],
   "source": [
    "path = \"C:/Users/aleja/Alejandro/Simulacion/Metodo_Congruencia_lineal/Numeros_generados_por_funcion_requerida/\""
   ]
  },
  {
   "cell_type": "code",
   "execution_count": 5,
   "id": "8101a94a",
   "metadata": {},
   "outputs": [
    {
     "data": {
      "text/html": [
       "<div>\n",
       "<style scoped>\n",
       "    .dataframe tbody tr th:only-of-type {\n",
       "        vertical-align: middle;\n",
       "    }\n",
       "\n",
       "    .dataframe tbody tr th {\n",
       "        vertical-align: top;\n",
       "    }\n",
       "\n",
       "    .dataframe thead th {\n",
       "        text-align: right;\n",
       "    }\n",
       "</style>\n",
       "<table border=\"1\" class=\"dataframe\">\n",
       "  <thead>\n",
       "    <tr style=\"text-align: right;\">\n",
       "      <th></th>\n",
       "      <th>Normal_X</th>\n",
       "      <th>Normal_Y</th>\n",
       "    </tr>\n",
       "  </thead>\n",
       "  <tbody>\n",
       "    <tr>\n",
       "      <th>0</th>\n",
       "      <td>0.134989</td>\n",
       "      <td>-0.103994</td>\n",
       "    </tr>\n",
       "    <tr>\n",
       "      <th>1</th>\n",
       "      <td>-0.587893</td>\n",
       "      <td>0.731276</td>\n",
       "    </tr>\n",
       "    <tr>\n",
       "      <th>2</th>\n",
       "      <td>1.839100</td>\n",
       "      <td>0.971932</td>\n",
       "    </tr>\n",
       "    <tr>\n",
       "      <th>3</th>\n",
       "      <td>0.452507</td>\n",
       "      <td>0.287706</td>\n",
       "    </tr>\n",
       "    <tr>\n",
       "      <th>4</th>\n",
       "      <td>-0.213947</td>\n",
       "      <td>-0.247866</td>\n",
       "    </tr>\n",
       "    <tr>\n",
       "      <th>5</th>\n",
       "      <td>1.642220</td>\n",
       "      <td>0.666026</td>\n",
       "    </tr>\n",
       "    <tr>\n",
       "      <th>6</th>\n",
       "      <td>0.620871</td>\n",
       "      <td>0.240568</td>\n",
       "    </tr>\n",
       "    <tr>\n",
       "      <th>7</th>\n",
       "      <td>0.872415</td>\n",
       "      <td>-0.609343</td>\n",
       "    </tr>\n",
       "    <tr>\n",
       "      <th>8</th>\n",
       "      <td>-0.609876</td>\n",
       "      <td>0.240699</td>\n",
       "    </tr>\n",
       "    <tr>\n",
       "      <th>9</th>\n",
       "      <td>-2.059620</td>\n",
       "      <td>-0.096290</td>\n",
       "    </tr>\n",
       "    <tr>\n",
       "      <th>10</th>\n",
       "      <td>1.661530</td>\n",
       "      <td>0.423592</td>\n",
       "    </tr>\n",
       "    <tr>\n",
       "      <th>11</th>\n",
       "      <td>-0.172683</td>\n",
       "      <td>0.143379</td>\n",
       "    </tr>\n",
       "    <tr>\n",
       "      <th>12</th>\n",
       "      <td>0.023021</td>\n",
       "      <td>-1.721450</td>\n",
       "    </tr>\n",
       "    <tr>\n",
       "      <th>13</th>\n",
       "      <td>-0.214422</td>\n",
       "      <td>0.169797</td>\n",
       "    </tr>\n",
       "    <tr>\n",
       "      <th>14</th>\n",
       "      <td>0.486842</td>\n",
       "      <td>1.106920</td>\n",
       "    </tr>\n",
       "  </tbody>\n",
       "</table>\n",
       "</div>"
      ],
      "text/plain": [
       "    Normal_X  Normal_Y\n",
       "0   0.134989 -0.103994\n",
       "1  -0.587893  0.731276\n",
       "2   1.839100  0.971932\n",
       "3   0.452507  0.287706\n",
       "4  -0.213947 -0.247866\n",
       "5   1.642220  0.666026\n",
       "6   0.620871  0.240568\n",
       "7   0.872415 -0.609343\n",
       "8  -0.609876  0.240699\n",
       "9  -2.059620 -0.096290\n",
       "10  1.661530  0.423592\n",
       "11 -0.172683  0.143379\n",
       "12  0.023021 -1.721450\n",
       "13 -0.214422  0.169797\n",
       "14  0.486842  1.106920"
      ]
     },
     "execution_count": 5,
     "metadata": {},
     "output_type": "execute_result"
    }
   ],
   "source": [
    "random_numbers = pd.read_table( path + 'Normales_por_radial.txt')\n",
    "random_numbers.head(15)"
   ]
  },
  {
   "cell_type": "code",
   "execution_count": 6,
   "id": "6647bc78",
   "metadata": {},
   "outputs": [
    {
     "name": "stdout",
     "output_type": "stream",
     "text": [
      "Cantidad de datos 10000\n",
      "Promedio:  -0.010388664443300001\n",
      "Varianza:  0.9976355732521341\n"
     ]
    }
   ],
   "source": [
    "n = len(random_numbers)\n",
    "promedio_num1 = random_numbers[\"Normal_X\"].mean()\n",
    "varianza_num1 = (n/(n-1))*random_numbers[\"Normal_X\"].var()\n",
    "\n",
    "print(\"Cantidad de datos\", n)\n",
    "print(\"Promedio: \", promedio_num1)\n",
    "print(\"Varianza: \", varianza_num1)"
   ]
  },
  {
   "cell_type": "code",
   "execution_count": 7,
   "id": "9939def1",
   "metadata": {},
   "outputs": [
    {
     "name": "stdout",
     "output_type": "stream",
     "text": [
      "Cantidad de datos 10000\n",
      "Promedio:  0.009134262560799996\n",
      "Varianza:  1.0068966380768454\n"
     ]
    }
   ],
   "source": [
    "n = len(random_numbers)\n",
    "promedio_num2 = random_numbers[\"Normal_Y\"].mean()\n",
    "varianza_num2 = (n/(n-1))*random_numbers[\"Normal_Y\"].var()\n",
    "\n",
    "print(\"Cantidad de datos\", n)\n",
    "print(\"Promedio: \", promedio_num2)\n",
    "print(\"Varianza: \", varianza_num2)"
   ]
  },
  {
   "cell_type": "code",
   "execution_count": 9,
   "id": "de582dd2",
   "metadata": {},
   "outputs": [
    {
     "data": {
      "image/png": "[encoded data removed]",
      "text/plain": [
       "<Figure size 720x432 with 1 Axes>"
      ]
     },
     "metadata": {
      "needs_background": "light"
     },
     "output_type": "display_data"
    }
   ],
   "source": [
    "plt.figure(figsize=(10,6))\n",
    "plt.hist(random_numbers[\"Normal_X\"], color = 'chocolate', edgecolor = \"black\", linewidth=2 , density = True)\n",
    "plt.title(\"Variables aleatorias Normales X DEV C++\",fontsize=20)\n",
    "plt.xlabel(\"Clases\", fontsize=15)\n",
    "plt.ylabel(\"Frecuencia\", fontsize=15)\n",
    "plt.show()"
   ]
  },
  {
   "cell_type": "code",
   "execution_count": 10,
   "id": "ede82ac9",
   "metadata": {},
   "outputs": [
    {
     "data": {
      "image/png": "[encoded data removed]",
      "text/plain": [
       "<Figure size 720x432 with 1 Axes>"
      ]
     },
     "metadata": {
      "needs_background": "light"
     },
     "output_type": "display_data"
    }
   ],
   "source": [
    "plt.figure(figsize=(10,6))\n",
    "plt.hist(random_numbers[\"Normal_Y\"], color = 'brown', edgecolor = \"black\", linewidth=2 , density = True)\n",
    "plt.title(\"Variables aleatorias Normales Y DEV C++\",fontsize=20)\n",
    "plt.xlabel(\"Clases\", fontsize=15)\n",
    "plt.ylabel(\"Frecuencia\", fontsize=15)\n",
    "plt.show()"
   ]
  }
 ],
 "metadata": {
  "kernelspec": {
   "display_name": "Python 3",
   "language": "python",
   "name": "python3"
  },
  "language_info": {
   "codemirror_mode": {
    "name": "ipython",
    "version": 3
   },
   "file_extension": ".py",
   "mimetype": "text/x-python",
   "name": "python",
   "nbconvert_exporter": "python",
   "pygments_lexer": "ipython3",
   "version": "3.9.5"
  }
 },
 "nbformat": 4,
 "nbformat_minor": 5
}

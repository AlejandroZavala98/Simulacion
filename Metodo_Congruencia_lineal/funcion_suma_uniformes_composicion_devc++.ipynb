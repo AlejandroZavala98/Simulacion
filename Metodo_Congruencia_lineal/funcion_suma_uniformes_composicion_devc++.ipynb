{
 "cells": [
  {
   "cell_type": "markdown",
   "id": "2d6eb5a1",
   "metadata": {},
   "source": [
    "# Funcion suma de uniformes DEV C++"
   ]
  },
  {
   "cell_type": "code",
   "execution_count": 1,
   "id": "ab179780",
   "metadata": {},
   "outputs": [],
   "source": [
    "import pandas as pd\n",
    "import matplotlib.pyplot as plt\n",
    "import os"
   ]
  },
  {
   "cell_type": "code",
   "execution_count": 2,
   "id": "33bd0e0c",
   "metadata": {},
   "outputs": [
    {
     "name": "stdout",
     "output_type": "stream",
     "text": [
      "C:\\Users\\aleja\\Alejandro\\Simulacion\\Metodo_Congruencia_lineal\n"
     ]
    }
   ],
   "source": [
    "print(os.getcwd())"
   ]
  },
  {
   "cell_type": "code",
   "execution_count": 3,
   "id": "6e4fea22",
   "metadata": {},
   "outputs": [
    {
     "name": "stdout",
     "output_type": "stream",
     "text": [
      "['exponencial_v1.txt', 'exponencial_v2.txt', 'laplace.txt', 'suma_uniformes.txt', 'uniforme_0_1.txt']\n"
     ]
    }
   ],
   "source": [
    "print(os.listdir(\"C:/Users/aleja/Alejandro/Simulacion/Metodo_Congruencia_lineal/Numeros_generados_por_funcion_requerida\"))"
   ]
  },
  {
   "cell_type": "code",
   "execution_count": 4,
   "id": "cfc49993",
   "metadata": {},
   "outputs": [],
   "source": [
    "path = \"C:/Users/aleja/Alejandro/Simulacion/Metodo_Congruencia_lineal/Numeros_generados_por_funcion_requerida/\""
   ]
  },
  {
   "cell_type": "code",
   "execution_count": 5,
   "id": "8101a94a",
   "metadata": {},
   "outputs": [
    {
     "data": {
      "text/html": [
       "<div>\n",
       "<style scoped>\n",
       "    .dataframe tbody tr th:only-of-type {\n",
       "        vertical-align: middle;\n",
       "    }\n",
       "\n",
       "    .dataframe tbody tr th {\n",
       "        vertical-align: top;\n",
       "    }\n",
       "\n",
       "    .dataframe thead th {\n",
       "        text-align: right;\n",
       "    }\n",
       "</style>\n",
       "<table border=\"1\" class=\"dataframe\">\n",
       "  <thead>\n",
       "    <tr style=\"text-align: right;\">\n",
       "      <th></th>\n",
       "      <th>Suma_Uniformes</th>\n",
       "    </tr>\n",
       "  </thead>\n",
       "  <tbody>\n",
       "    <tr>\n",
       "      <th>0</th>\n",
       "      <td>0.849309</td>\n",
       "    </tr>\n",
       "    <tr>\n",
       "      <th>1</th>\n",
       "      <td>0.496562</td>\n",
       "    </tr>\n",
       "    <tr>\n",
       "      <th>2</th>\n",
       "      <td>1.879940</td>\n",
       "    </tr>\n",
       "    <tr>\n",
       "      <th>3</th>\n",
       "      <td>1.530540</td>\n",
       "    </tr>\n",
       "    <tr>\n",
       "      <th>4</th>\n",
       "      <td>0.632515</td>\n",
       "    </tr>\n",
       "  </tbody>\n",
       "</table>\n",
       "</div>"
      ],
      "text/plain": [
       "   Suma_Uniformes\n",
       "0        0.849309\n",
       "1        0.496562\n",
       "2        1.879940\n",
       "3        1.530540\n",
       "4        0.632515"
      ]
     },
     "execution_count": 5,
     "metadata": {},
     "output_type": "execute_result"
    }
   ],
   "source": [
    "random_numbers = pd.read_table( path + 'suma_uniformes.txt')\n",
    "random_numbers.head()"
   ]
  },
  {
   "cell_type": "code",
   "execution_count": 6,
   "id": "6647bc78",
   "metadata": {},
   "outputs": [
    {
     "name": "stdout",
     "output_type": "stream",
     "text": [
      "Promedio:  0.99260621744\n",
      "Varianza:  0.16780409796191592\n"
     ]
    }
   ],
   "source": [
    "n = len(random_numbers)\n",
    "promedio_num = random_numbers[\"Suma_Uniformes\"].mean()\n",
    "varianza_num = (n/(n-1))*random_numbers[\"Suma_Uniformes\"].var()\n",
    "\n",
    "print(\"Promedio: \", promedio_num)\n",
    "print(\"Varianza: \", varianza_num)"
   ]
  },
  {
   "cell_type": "code",
   "execution_count": 7,
   "id": "de582dd2",
   "metadata": {},
   "outputs": [
    {
     "data": {
      "image/png": "[encoded data removed]",
      "text/plain": [
       "<Figure size 720x432 with 1 Axes>"
      ]
     },
     "metadata": {
      "needs_background": "light"
     },
     "output_type": "display_data"
    }
   ],
   "source": [
    "plt.figure(figsize=(10,6))\n",
    "plt.hist(random_numbers[\"Suma_Uniformes\"], color = 'dodgerblue', edgecolor = \"black\", linewidth=2 , density = True)\n",
    "plt.title(\"Variables Suma de uniformes DEV C++\",fontsize=20)\n",
    "plt.xlabel(\"Clases\", fontsize=15)\n",
    "plt.ylabel(\"Frecuencia\", fontsize=15)\n",
    "plt.show()"
   ]
  },
  {
   "cell_type": "code",
   "execution_count": null,
   "id": "15e8be8e",
   "metadata": {},
   "outputs": [],
   "source": [
    "n"
   ]
  }
 ],
 "metadata": {
  "kernelspec": {
   "display_name": "Python 3",
   "language": "python",
   "name": "python3"
  },
  "language_info": {
   "codemirror_mode": {
    "name": "ipython",
    "version": 3
   },
   "file_extension": ".py",
   "mimetype": "text/x-python",
   "name": "python",
   "nbconvert_exporter": "python",
   "pygments_lexer": "ipython3",
   "version": "3.9.5"
  }
 },
 "nbformat": 4,
 "nbformat_minor": 5
}

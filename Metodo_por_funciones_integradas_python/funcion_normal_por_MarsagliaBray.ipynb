{
 "cells": [
  {
   "cell_type": "markdown",
   "id": "6cc5a608",
   "metadata": {},
   "source": [
    "# Generando variables normales por Marsaglia - Bray"
   ]
  },
  {
   "cell_type": "code",
   "execution_count": 2,
   "id": "1a991d03",
   "metadata": {},
   "outputs": [],
   "source": [
    "import math\n",
    "import numpy as np\n",
    "import pandas as  pd\n",
    "import random\n",
    "import matplotlib.pyplot as plt"
   ]
  },
  {
   "cell_type": "code",
   "execution_count": 5,
   "id": "96acfb5c",
   "metadata": {},
   "outputs": [
    {
     "data": {
      "text/plain": [
       "2.302585092994046"
      ]
     },
     "execution_count": 5,
     "metadata": {},
     "output_type": "execute_result"
    }
   ],
   "source": [
    "np.log(10)"
   ]
  },
  {
   "cell_type": "code",
   "execution_count": 8,
   "id": "12992849",
   "metadata": {},
   "outputs": [],
   "source": [
    "iteraciones = 10000\n",
    "normal_xy = []\n",
    "\n",
    "for iteracion in range(0,iteraciones):\n",
    "    unif_1 = random.random()\n",
    "    unif_2 = random.random()\n",
    "    v1=(2*unif_1)-1;\n",
    "    v2=(2*unif_2)-1;\n",
    "    wn=np.power(v1,2)+np.power(v2,2)\n",
    "    if wn <= 1:\n",
    "        yraiz = np.sqrt((-2*np.log(wn))/(wn))\n",
    "        xnor=v1*yraiz\n",
    "        ynor=v2*yraiz\n",
    "        normal_xy.append([xnor,ynor])\n",
    "\n",
    "normales_xy = pd.DataFrame(normal_xy)\n",
    "normales_xy.columns = [\"X\",\"Y\"]"
   ]
  },
  {
   "cell_type": "code",
   "execution_count": 9,
   "id": "1bf55d3b",
   "metadata": {},
   "outputs": [
    {
     "data": {
      "text/html": [
       "<div>\n",
       "<style scoped>\n",
       "    .dataframe tbody tr th:only-of-type {\n",
       "        vertical-align: middle;\n",
       "    }\n",
       "\n",
       "    .dataframe tbody tr th {\n",
       "        vertical-align: top;\n",
       "    }\n",
       "\n",
       "    .dataframe thead th {\n",
       "        text-align: right;\n",
       "    }\n",
       "</style>\n",
       "<table border=\"1\" class=\"dataframe\">\n",
       "  <thead>\n",
       "    <tr style=\"text-align: right;\">\n",
       "      <th></th>\n",
       "      <th>X</th>\n",
       "      <th>Y</th>\n",
       "    </tr>\n",
       "  </thead>\n",
       "  <tbody>\n",
       "    <tr>\n",
       "      <th>0</th>\n",
       "      <td>0.269894</td>\n",
       "      <td>-0.610334</td>\n",
       "    </tr>\n",
       "    <tr>\n",
       "      <th>1</th>\n",
       "      <td>-0.031709</td>\n",
       "      <td>-1.101517</td>\n",
       "    </tr>\n",
       "    <tr>\n",
       "      <th>2</th>\n",
       "      <td>1.078294</td>\n",
       "      <td>1.859163</td>\n",
       "    </tr>\n",
       "    <tr>\n",
       "      <th>3</th>\n",
       "      <td>0.900411</td>\n",
       "      <td>0.081150</td>\n",
       "    </tr>\n",
       "    <tr>\n",
       "      <th>4</th>\n",
       "      <td>-1.152131</td>\n",
       "      <td>1.107033</td>\n",
       "    </tr>\n",
       "  </tbody>\n",
       "</table>\n",
       "</div>"
      ],
      "text/plain": [
       "          X         Y\n",
       "0  0.269894 -0.610334\n",
       "1 -0.031709 -1.101517\n",
       "2  1.078294  1.859163\n",
       "3  0.900411  0.081150\n",
       "4 -1.152131  1.107033"
      ]
     },
     "execution_count": 9,
     "metadata": {},
     "output_type": "execute_result"
    }
   ],
   "source": [
    "normales_xy.head()"
   ]
  },
  {
   "cell_type": "code",
   "execution_count": 10,
   "id": "7893a13a",
   "metadata": {},
   "outputs": [
    {
     "data": {
      "image/png": "[encoded data removed]",
      "text/plain": [
       "<Figure size 720x432 with 1 Axes>"
      ]
     },
     "metadata": {
      "needs_background": "light"
     },
     "output_type": "display_data"
    }
   ],
   "source": [
    "plt.figure(figsize=(10,6))\n",
    "plt.hist(normales_xy[\"X\"], color = 'darkcyan', edgecolor = \"black\", linewidth=2 , density = True)\n",
    "plt.title(\"Variables aleatorias normales\",fontsize=20)\n",
    "plt.xlabel(\"Clases\", fontsize=15)\n",
    "plt.ylabel(\"Frecuencia\", fontsize=15)\n",
    "plt.show()"
   ]
  },
  {
   "cell_type": "code",
   "execution_count": 14,
   "id": "a5b08abe",
   "metadata": {},
   "outputs": [
    {
     "name": "stdout",
     "output_type": "stream",
     "text": [
      "Promedio: -0.002151203892394008\n",
      "Varianza: 0.9897129120767181\n"
     ]
    }
   ],
   "source": [
    "print(\"Promedio: {}\".format(np.mean(normales_xy[\"X\"])))\n",
    "print(\"Varianza: {}\".format((iteraciones/(iteraciones-1))*np.var(normales_xy[\"X\"])))"
   ]
  },
  {
   "cell_type": "code",
   "execution_count": 11,
   "id": "8aa3fe92",
   "metadata": {},
   "outputs": [
    {
     "data": {
      "image/png": "[encoded data removed]",
      "text/plain": [
       "<Figure size 720x432 with 1 Axes>"
      ]
     },
     "metadata": {
      "needs_background": "light"
     },
     "output_type": "display_data"
    }
   ],
   "source": [
    "plt.figure(figsize=(10,6))\n",
    "plt.hist(normales_xy[\"Y\"], color = 'darkred', edgecolor = \"black\", linewidth=2 , density = True)\n",
    "plt.title(\"Variables aleatorias normales\",fontsize=20)\n",
    "plt.xlabel(\"Clases\", fontsize=15)\n",
    "plt.ylabel(\"Frecuencia\", fontsize=15)\n",
    "plt.show()"
   ]
  },
  {
   "cell_type": "code",
   "execution_count": 15,
   "id": "42b5f4d9",
   "metadata": {},
   "outputs": [
    {
     "name": "stdout",
     "output_type": "stream",
     "text": [
      "Promedio: -0.013988827575585162\n",
      "Varianza: 1.009870434346904\n"
     ]
    }
   ],
   "source": [
    "print(\"Promedio: {}\".format(np.mean(normales_xy[\"Y\"])))\n",
    "print(\"Varianza: {}\".format((iteraciones/(iteraciones-1))*np.var(normales_xy[\"Y\"])))"
   ]
  }
 ],
 "metadata": {
  "kernelspec": {
   "display_name": "Python 3",
   "language": "python",
   "name": "python3"
  },
  "language_info": {
   "codemirror_mode": {
    "name": "ipython",
    "version": 3
   },
   "file_extension": ".py",
   "mimetype": "text/x-python",
   "name": "python",
   "nbconvert_exporter": "python",
   "pygments_lexer": "ipython3",
   "version": "3.9.5"
  }
 },
 "nbformat": 4,
 "nbformat_minor": 5
}

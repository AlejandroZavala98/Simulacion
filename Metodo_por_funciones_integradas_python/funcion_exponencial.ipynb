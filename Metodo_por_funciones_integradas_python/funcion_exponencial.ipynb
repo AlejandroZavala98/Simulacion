{
 "cells": [
  {
   "cell_type": "markdown",
   "id": "3d8e1085",
   "metadata": {},
   "source": [
    "# Generando variableas aleatorios de la función exponencial"
   ]
  },
  {
   "cell_type": "code",
   "execution_count": 1,
   "id": "a9aa7b85",
   "metadata": {},
   "outputs": [],
   "source": [
    "import random\n",
    "import math\n",
    "import matplotlib.pyplot as plt"
   ]
  },
  {
   "cell_type": "code",
   "execution_count": 2,
   "id": "88ad4e26",
   "metadata": {},
   "outputs": [
    {
     "data": {
      "text/plain": [
       "0.7477102139803743"
      ]
     },
     "execution_count": 2,
     "metadata": {},
     "output_type": "execute_result"
    }
   ],
   "source": [
    "random.random()"
   ]
  },
  {
   "cell_type": "code",
   "execution_count": 3,
   "id": "85dd784b",
   "metadata": {},
   "outputs": [],
   "source": [
    "iteraciones = 10000\n",
    "n_exp = []\n",
    "for iteracion in range(0,iteraciones):\n",
    "    number_exp = -1 * (math.log(random.random()))\n",
    "    n_exp.append(number_exp)"
   ]
  },
  {
   "cell_type": "code",
   "execution_count": 4,
   "id": "58d1b948",
   "metadata": {},
   "outputs": [
    {
     "data": {
      "image/png": "[encoded data removed]",
      "text/plain": [
       "<Figure size 432x288 with 1 Axes>"
      ]
     },
     "metadata": {
      "needs_background": "light"
     },
     "output_type": "display_data"
    }
   ],
   "source": [
    "plt.hist(n_exp, edgecolor = 'black',  linewidth=1,density=True)\n",
    "plt.xlabel('Clases')\n",
    "plt.ylabel('Frecuencia')\n",
    "plt.title(\"Números pseudo-aleatorios exponenciales\")\n",
    "plt.show()"
   ]
  }
 ],
 "metadata": {
  "kernelspec": {
   "display_name": "Python 3",
   "language": "python",
   "name": "python3"
  },
  "language_info": {
   "codemirror_mode": {
    "name": "ipython",
    "version": 3
   },
   "file_extension": ".py",
   "mimetype": "text/x-python",
   "name": "python",
   "nbconvert_exporter": "python",
   "pygments_lexer": "ipython3",
   "version": "3.9.5"
  }
 },
 "nbformat": 4,
 "nbformat_minor": 5
}

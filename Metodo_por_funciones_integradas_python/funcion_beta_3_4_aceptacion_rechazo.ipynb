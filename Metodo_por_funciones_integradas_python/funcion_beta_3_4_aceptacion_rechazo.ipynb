{
 "cells": [
  {
   "cell_type": "markdown",
   "id": "d5444f99",
   "metadata": {},
   "source": [
    "# Funcion Beta\n",
    "\n",
    "$$ f(x) = \\frac{x^{\\alpha_{1} -1 }(1-x)^{\\alpha_{2} - 1}}{B(\\alpha_{1} , \\alpha_{2})} $$\n",
    "\n",
    "$$ B(\\alpha_{1} , \\alpha_{2}) = \\int \\limits_{0}^{1} t^{\\alpha_{1}}(1-t)^{\\alpha_{2} - 1} dt$$\n",
    "\n",
    "$$0<x<1$$\n",
    "\n",
    "Para la funcion Beta de parámetros \n",
    "\n",
    "$$\\alpha_{1} = 4 \\\\ \\alpha_{2} = 3 $$\n",
    "\n",
    "$$ beta(4,3) = 60 x^{3}(1-x)^{2} $$\n",
    "\n",
    "$$0<x<1$$"
   ]
  },
  {
   "cell_type": "code",
   "execution_count": 1,
   "id": "ba988559",
   "metadata": {},
   "outputs": [],
   "source": [
    "import random\n",
    "import numpy as np\n",
    "import math\n",
    "import matplotlib.pyplot as plt"
   ]
  },
  {
   "cell_type": "code",
   "execution_count": 6,
   "id": "c3615801",
   "metadata": {},
   "outputs": [],
   "source": [
    "iteraciones = 10000\n",
    "list_beta = []\n",
    "\n",
    "for iteracion in range(0,iteraciones):\n",
    "    unif1 = random.random()\n",
    "    unif2 = random.random()\n",
    "    \n",
    "    f_beta = 60 * np.power(unif1,3)*np.power(1-unif1,2)\n",
    "    f_acotada = 2.0736\n",
    "    \n",
    "    if unif2 <= f_beta/f_acotada:\n",
    "        list_beta.append(unif1)\n",
    "\n",
    "variables_beta = np.array(list_beta)"
   ]
  },
  {
   "cell_type": "code",
   "execution_count": 7,
   "id": "d153ef1e",
   "metadata": {},
   "outputs": [
    {
     "name": "stdout",
     "output_type": "stream",
     "text": [
      "Promedio: 0.5673910364183575\n",
      "Varianza: 0.031024289576049864\n"
     ]
    }
   ],
   "source": [
    "print(\"Promedio: {}\".format(np.mean(variables_beta)))\n",
    "print(\"Varianza: {}\".format((iteraciones/(iteraciones-1))*np.var(variables_beta)))"
   ]
  },
  {
   "cell_type": "code",
   "execution_count": 8,
   "id": "5057aaf1",
   "metadata": {},
   "outputs": [
    {
     "data": {
      "image/png": "[encoded data removed]",
      "text/plain": [
       "<Figure size 720x432 with 1 Axes>"
      ]
     },
     "metadata": {
      "needs_background": "light"
     },
     "output_type": "display_data"
    }
   ],
   "source": [
    "plt.figure(figsize=(10,6))\n",
    "plt.hist(variables_beta, color = 'darkorchid', edgecolor = \"black\", linewidth=2 , density = True)\n",
    "plt.title(\"Variables aleatorias por aceptacion - rechazo\",fontsize=20)\n",
    "plt.xlabel(\"Clases\", fontsize=15)\n",
    "plt.ylabel(\"Frecuencia\", fontsize=15)\n",
    "plt.show()"
   ]
  }
 ],
 "metadata": {
  "kernelspec": {
   "display_name": "Python 3",
   "language": "python",
   "name": "python3"
  },
  "language_info": {
   "codemirror_mode": {
    "name": "ipython",
    "version": 3
   },
   "file_extension": ".py",
   "mimetype": "text/x-python",
   "name": "python",
   "nbconvert_exporter": "python",
   "pygments_lexer": "ipython3",
   "version": "3.9.5"
  }
 },
 "nbformat": 4,
 "nbformat_minor": 5
}

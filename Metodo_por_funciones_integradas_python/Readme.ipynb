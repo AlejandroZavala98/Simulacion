{
 "cells": [
  {
   "cell_type": "markdown",
   "id": "6d330503",
   "metadata": {},
   "source": [
    "# Readme\n",
    "\n",
    "En esta carpeta se generaran variables aleatorias de la distribucion deseada, todo por números pseudoaletorios por funciones integradas de python. Se vera la eficiencia y comparación de hacerlo por el método de congruencia lineal modular (escrito en C++) y por funciones integradas de python por la libreria **random**"
   ]
  }
 ],
 "metadata": {
  "kernelspec": {
   "display_name": "Python 3",
   "language": "python",
   "name": "python3"
  },
  "language_info": {
   "codemirror_mode": {
    "name": "ipython",
    "version": 3
   },
   "file_extension": ".py",
   "mimetype": "text/x-python",
   "name": "python",
   "nbconvert_exporter": "python",
   "pygments_lexer": "ipython3",
   "version": "3.9.5"
  }
 },
 "nbformat": 4,
 "nbformat_minor": 5
}

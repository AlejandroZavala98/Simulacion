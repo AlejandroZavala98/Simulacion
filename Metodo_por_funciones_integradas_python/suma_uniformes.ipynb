{
 "cells": [
  {
   "cell_type": "markdown",
   "id": "2ae9191e",
   "metadata": {},
   "source": [
    "# Suma de uniformes por composición"
   ]
  },
  {
   "cell_type": "code",
   "execution_count": 5,
   "id": "a6dc445f",
   "metadata": {},
   "outputs": [],
   "source": [
    "import math\n",
    "import numpy as np\n",
    "import pandas as  pd\n",
    "import random\n",
    "import matplotlib.pyplot as plt"
   ]
  },
  {
   "cell_type": "code",
   "execution_count": 6,
   "id": "88d6dc93",
   "metadata": {},
   "outputs": [],
   "source": [
    "iteraciones = 10000\n",
    "lista_suma = []\n",
    "\n",
    "for iteracion in range(0,iteraciones): \n",
    "    \n",
    "    unif_1 = random.random()\n",
    "    unif_2 = random.random()\n",
    "    lista_suma.append(unif_1+unif_2)\n",
    "\n",
    "array_suma = np.array(lista_suma)"
   ]
  },
  {
   "cell_type": "code",
   "execution_count": 7,
   "id": "c81543e0",
   "metadata": {},
   "outputs": [
    {
     "data": {
      "image/png": "[encoded data removed]",
      "text/plain": [
       "<Figure size 720x432 with 1 Axes>"
      ]
     },
     "metadata": {
      "needs_background": "light"
     },
     "output_type": "display_data"
    }
   ],
   "source": [
    "plt.figure(figsize=(10,6))\n",
    "plt.hist(array_suma, color = 'bisque', edgecolor = \"black\", linewidth=2 , density = True)\n",
    "plt.title(\"Suma de uniformes\",fontsize=20)\n",
    "plt.xlabel(\"Clases\", fontsize=15)\n",
    "plt.ylabel(\"Frecuencia\", fontsize=15)\n",
    "plt.show()"
   ]
  },
  {
   "cell_type": "code",
   "execution_count": 8,
   "id": "3418a450",
   "metadata": {},
   "outputs": [
    {
     "name": "stdout",
     "output_type": "stream",
     "text": [
      "Promedio es:  1.0032678506393318\n",
      "Varianza: 0.1689317899889749\n"
     ]
    }
   ],
   "source": [
    "print(\"Promedio es: \",np.mean(array_suma))\n",
    "print(\"Varianza: {}\".format((iteraciones/(iteraciones-1))*np.var(array_suma))) "
   ]
  }
 ],
 "metadata": {
  "kernelspec": {
   "display_name": "Python 3",
   "language": "python",
   "name": "python3"
  },
  "language_info": {
   "codemirror_mode": {
    "name": "ipython",
    "version": 3
   },
   "file_extension": ".py",
   "mimetype": "text/x-python",
   "name": "python",
   "nbconvert_exporter": "python",
   "pygments_lexer": "ipython3",
   "version": "3.9.5"
  }
 },
 "nbformat": 4,
 "nbformat_minor": 5
}

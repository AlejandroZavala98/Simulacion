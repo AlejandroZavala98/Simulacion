{
 "cells": [
  {
   "cell_type": "markdown",
   "id": "42a5af89",
   "metadata": {},
   "source": [
    "# Función radial"
   ]
  },
  {
   "cell_type": "code",
   "execution_count": 1,
   "id": "1978316e",
   "metadata": {},
   "outputs": [],
   "source": [
    "import matplotlib.pyplot as plt\n",
    "import math\n",
    "import random"
   ]
  },
  {
   "cell_type": "code",
   "execution_count": 2,
   "id": "02273914",
   "metadata": {},
   "outputs": [
    {
     "data": {
      "text/plain": [
       "Text(0, 0.5, 'Frecuencia')"
      ]
     },
     "execution_count": 2,
     "metadata": {},
     "output_type": "execute_result"
    },
    {
     "data": {
      "image/png": "[encoded data removed]",
      "text/plain": [
       "<Figure size 432x288 with 1 Axes>"
      ]
     },
     "metadata": {
      "needs_background": "light"
     },
     "output_type": "display_data"
    }
   ],
   "source": [
    "f_radial=[]\n",
    "iteraciones = 100000\n",
    "for i in range(0,iteraciones):\n",
    "    variable = math.sqrt(-2*math.log(random.random()))\n",
    "    f_radial.append(variable)\n",
    "    \n",
    "plt.hist(f_radial, color = 'darkorange', edgecolor = \"black\", linewidth=2 , density = True)\n",
    "plt.title(\"Funcion radial\",fontsize=23)\n",
    "plt.xlabel(\"Clases\")\n",
    "plt.ylabel(\"Frecuencia\")"
   ]
  }
 ],
 "metadata": {
  "kernelspec": {
   "display_name": "Python 3",
   "language": "python",
   "name": "python3"
  },
  "language_info": {
   "codemirror_mode": {
    "name": "ipython",
    "version": 3
   },
   "file_extension": ".py",
   "mimetype": "text/x-python",
   "name": "python",
   "nbconvert_exporter": "python",
   "pygments_lexer": "ipython3",
   "version": "3.9.5"
  }
 },
 "nbformat": 4,
 "nbformat_minor": 5
}

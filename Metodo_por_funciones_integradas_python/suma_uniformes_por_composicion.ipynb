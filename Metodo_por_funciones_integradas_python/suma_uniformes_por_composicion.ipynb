{
 "cells": [
  {
   "cell_type": "markdown",
   "id": "2ae9191e",
   "metadata": {},
   "source": [
    "# Suma de uniformes por composición"
   ]
  },
  {
   "cell_type": "code",
   "execution_count": 1,
   "id": "a6dc445f",
   "metadata": {},
   "outputs": [],
   "source": [
    "import math\n",
    "import numpy as np\n",
    "import pandas as  pd\n",
    "import random\n",
    "import matplotlib.pyplot as plt"
   ]
  },
  {
   "cell_type": "code",
   "execution_count": 2,
   "id": "88d6dc93",
   "metadata": {},
   "outputs": [],
   "source": [
    "iteraciones = 10000\n",
    "xloga=[]\n",
    "for iteracio in range(0,iteraciones):  \n",
    "    unif_1 = random.random()\n",
    "    unif_2 = random.random()\n",
    "    if (unif_1 < 0.5):\n",
    "        vector=math.sqrt(unif_2)\n",
    "        xloga.append(vector)\n",
    "    else:\n",
    "        vector=2-math.sqrt(1-unif_2)\n",
    "        xloga.append(vector)\n",
    "array_xloga = np.array(xloga)"
   ]
  },
  {
   "cell_type": "code",
   "execution_count": 4,
   "id": "c81543e0",
   "metadata": {},
   "outputs": [
    {
     "data": {
      "image/png": "[encoded data removed]",
      "text/plain": [
       "<Figure size 720x432 with 1 Axes>"
      ]
     },
     "metadata": {
      "needs_background": "light"
     },
     "output_type": "display_data"
    }
   ],
   "source": [
    "plt.figure(figsize=(10,6))\n",
    "plt.hist(array_xloga, color = 'dodgerblue', edgecolor = \"black\", linewidth=2 , density = True)\n",
    "plt.title(\"Suma de uniformes\",fontsize=20)\n",
    "plt.xlabel(\"Clases\", fontsize=15)\n",
    "plt.ylabel(\"Frecuencia\", fontsize=15)\n",
    "plt.show()"
   ]
  }
 ],
 "metadata": {
  "kernelspec": {
   "display_name": "Python 3",
   "language": "python",
   "name": "python3"
  },
  "language_info": {
   "codemirror_mode": {
    "name": "ipython",
    "version": 3
   },
   "file_extension": ".py",
   "mimetype": "text/x-python",
   "name": "python",
   "nbconvert_exporter": "python",
   "pygments_lexer": "ipython3",
   "version": "3.9.5"
  }
 },
 "nbformat": 4,
 "nbformat_minor": 5
}

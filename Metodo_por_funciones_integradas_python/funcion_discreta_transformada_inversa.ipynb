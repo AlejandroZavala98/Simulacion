{
 "cells": [
  {
   "cell_type": "markdown",
   "id": "ee48f32d",
   "metadata": {},
   "source": [
    "# Generando variables aleatorias discretas\n",
    "\n",
    "Un proceso industrial determina la probabilidad de que cierto tipo de anomalia se presente. Las cuales son:\n",
    "\n",
    "$$P(X=1)=0.30 \\\\ P(X=2)=0.20 \\\\ P(X=3)=0.35 \\\\ P(X=4)=0.15$$"
   ]
  },
  {
   "cell_type": "code",
   "execution_count": 1,
   "id": "018c3c34",
   "metadata": {},
   "outputs": [],
   "source": [
    "import random\n",
    "import numpy as np\n",
    "import math\n",
    "import matplotlib.pyplot as plt"
   ]
  },
  {
   "cell_type": "code",
   "execution_count": 2,
   "id": "3451aef8",
   "metadata": {},
   "outputs": [],
   "source": [
    "def simulando_discretas(unif):\n",
    "    valor = 0\n",
    "    if unif < 0.3:\n",
    "        valor = 1\n",
    "    elif unif < 0.5:\n",
    "        valor = 2\n",
    "    elif unif < 0.85:\n",
    "        valor = 3\n",
    "    else:\n",
    "        valor = 4\n",
    "    return valor"
   ]
  },
  {
   "cell_type": "code",
   "execution_count": 3,
   "id": "c351caa1",
   "metadata": {},
   "outputs": [],
   "source": [
    "iteraciones = 10000\n",
    "list_discretas = []\n",
    "\n",
    "for iteracion in range(0,iteraciones):\n",
    "    list_discretas.append(simulando_discretas(random.random()))\n",
    "    \n",
    "variables_discretas = np.array(list_discretas)"
   ]
  },
  {
   "cell_type": "code",
   "execution_count": 4,
   "id": "d63156d1",
   "metadata": {},
   "outputs": [
    {
     "data": {
      "text/plain": [
       "10000"
      ]
     },
     "execution_count": 4,
     "metadata": {},
     "output_type": "execute_result"
    }
   ],
   "source": [
    "len(variables_discretas)"
   ]
  },
  {
   "cell_type": "code",
   "execution_count": 5,
   "id": "63219b65",
   "metadata": {},
   "outputs": [],
   "source": [
    "unique, counts = np.unique(variables_discretas, return_counts=True)"
   ]
  },
  {
   "cell_type": "code",
   "execution_count": 6,
   "id": "7585acbb",
   "metadata": {},
   "outputs": [],
   "source": [
    "frequency_variables = dict(zip(unique, counts))"
   ]
  },
  {
   "cell_type": "code",
   "execution_count": 7,
   "id": "7dc9a5f1",
   "metadata": {},
   "outputs": [
    {
     "data": {
      "text/plain": [
       "{1: 2979, 2: 2055, 3: 3455, 4: 1511}"
      ]
     },
     "execution_count": 7,
     "metadata": {},
     "output_type": "execute_result"
    }
   ],
   "source": [
    "frequency_variables"
   ]
  },
  {
   "cell_type": "code",
   "execution_count": 8,
   "id": "704c5854",
   "metadata": {},
   "outputs": [],
   "source": [
    "valor_esperado = 1*0.30 + 2*0.20 + 3*0.35 + 4*0.15   "
   ]
  },
  {
   "cell_type": "code",
   "execution_count": 9,
   "id": "24958cd2",
   "metadata": {},
   "outputs": [
    {
     "name": "stdout",
     "output_type": "stream",
     "text": [
      "Valor esperado:  2.3499999999999996\n"
     ]
    }
   ],
   "source": [
    "print(\"Valor esperado: \",valor_esperado)"
   ]
  },
  {
   "cell_type": "code",
   "execution_count": 10,
   "id": "05cfc015",
   "metadata": {},
   "outputs": [
    {
     "data": {
      "image/png": "[encoded data removed]",
      "text/plain": [
       "<Figure size 720x432 with 1 Axes>"
      ]
     },
     "metadata": {
      "needs_background": "light"
     },
     "output_type": "display_data"
    }
   ],
   "source": [
    "plt.figure(figsize=(10,6))\n",
    "plt.hist(variables_discretas, color = 'crimson', edgecolor = \"black\", linewidth=2 , density = True)\n",
    "plt.title(\"Variables aleatorias discretas por transformada inversa\",fontsize=20)\n",
    "plt.xlabel(\"Clases\", fontsize=15)\n",
    "plt.ylabel(\"Frecuencia\", fontsize=15)\n",
    "plt.show()"
   ]
  }
 ],
 "metadata": {
  "kernelspec": {
   "display_name": "Python 3",
   "language": "python",
   "name": "python3"
  },
  "language_info": {
   "codemirror_mode": {
    "name": "ipython",
    "version": 3
   },
   "file_extension": ".py",
   "mimetype": "text/x-python",
   "name": "python",
   "nbconvert_exporter": "python",
   "pygments_lexer": "ipython3",
   "version": "3.9.5"
  }
 },
 "nbformat": 4,
 "nbformat_minor": 5
}

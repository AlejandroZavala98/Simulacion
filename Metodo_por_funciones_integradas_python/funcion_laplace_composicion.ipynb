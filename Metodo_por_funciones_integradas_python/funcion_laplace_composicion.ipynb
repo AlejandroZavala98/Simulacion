{
 "cells": [
  {
   "cell_type": "markdown",
   "id": "85db2fc1",
   "metadata": {},
   "source": [
    "# Funcion de Laplace\n",
    "\n",
    "La funcion de Laplace definida por:\n",
    "\n",
    " $$ f(x) = \\left \\{ \\begin{matrix} \\frac{1}{2} e^{x} & \\mbox{si }\\mbox{ x<0}\n",
    "\\\\  \\frac{1}{2} e^{-x} & \\mbox{si }\\mbox{ x>0}\\end{matrix}\\right. $$"
   ]
  },
  {
   "cell_type": "code",
   "execution_count": 1,
   "id": "82613285",
   "metadata": {},
   "outputs": [],
   "source": [
    "import random\n",
    "import math\n",
    "import matplotlib.pyplot as plt\n",
    "import numpy as np"
   ]
  },
  {
   "cell_type": "code",
   "execution_count": 2,
   "id": "aa8373e0",
   "metadata": {},
   "outputs": [],
   "source": [
    "iteraciones = 10000\n",
    "p = 0.5\n",
    "n_laplace = []\n",
    "\n",
    "for iteracion in range(0,iteraciones):\n",
    "    unif1 = random.random()\n",
    "    unif2 = random.random()\n",
    "    \n",
    "    if unif1 < 0.5:\n",
    "        n_laplace.append(math.log(unif2))\n",
    "        \n",
    "    else:\n",
    "        n_laplace.append(-math.log(unif2))\n",
    "\n",
    "laplace_var = np.array(n_laplace)"
   ]
  },
  {
   "cell_type": "code",
   "execution_count": 3,
   "id": "5b6ef8ff",
   "metadata": {},
   "outputs": [
    {
     "data": {
      "image/png": "[encoded data removed]",
      "text/plain": [
       "<Figure size 720x432 with 1 Axes>"
      ]
     },
     "metadata": {
      "needs_background": "light"
     },
     "output_type": "display_data"
    }
   ],
   "source": [
    "plt.figure(figsize=(10,6))\n",
    "plt.hist(laplace_var, color = 'darkorchid', edgecolor = \"black\", linewidth=2 , density = True)\n",
    "plt.title(\"Variables aleatorias de Laplace \",fontsize=20)\n",
    "plt.xlabel(\"Clases\", fontsize=15)\n",
    "plt.ylabel(\"Frecuencia\", fontsize=15)\n",
    "plt.show()"
   ]
  },
  {
   "cell_type": "code",
   "execution_count": 4,
   "id": "f3f81fce",
   "metadata": {},
   "outputs": [
    {
     "name": "stdout",
     "output_type": "stream",
     "text": [
      "Promedio: -0.025894372042823903\n",
      "Varianza: 2.08197863188187\n"
     ]
    }
   ],
   "source": [
    "print(\"Promedio: {}\".format(np.mean(laplace_var)))\n",
    "print(\"Varianza: {}\".format((iteraciones/(iteraciones-1))*np.var(laplace_var)))"
   ]
  }
 ],
 "metadata": {
  "kernelspec": {
   "display_name": "Python 3",
   "language": "python",
   "name": "python3"
  },
  "language_info": {
   "codemirror_mode": {
    "name": "ipython",
    "version": 3
   },
   "file_extension": ".py",
   "mimetype": "text/x-python",
   "name": "python",
   "nbconvert_exporter": "python",
   "pygments_lexer": "ipython3",
   "version": "3.9.5"
  }
 },
 "nbformat": 4,
 "nbformat_minor": 5
}

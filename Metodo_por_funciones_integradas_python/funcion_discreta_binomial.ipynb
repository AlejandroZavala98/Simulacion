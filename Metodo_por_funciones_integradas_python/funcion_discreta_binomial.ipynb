{
 "cells": [
  {
   "cell_type": "markdown",
   "id": "351c88ff",
   "metadata": {},
   "source": [
    "# Función Discreta Binomial"
   ]
  },
  {
   "cell_type": "code",
   "execution_count": 1,
   "id": "2e7ebdda",
   "metadata": {},
   "outputs": [],
   "source": [
    "import random\n",
    "import numpy as np\n",
    "import math\n",
    "import matplotlib.pyplot as plt"
   ]
  },
  {
   "cell_type": "code",
   "execution_count": 6,
   "id": "79dc4344",
   "metadata": {},
   "outputs": [
    {
     "data": {
      "text/plain": [
       "0.42250000000000004"
      ]
     },
     "execution_count": 6,
     "metadata": {},
     "output_type": "execute_result"
    }
   ],
   "source": [
    "math.pow(.65,2)"
   ]
  },
  {
   "cell_type": "code",
   "execution_count": 12,
   "id": "8ea13ae4",
   "metadata": {},
   "outputs": [],
   "source": [
    "iteraciones = 10000\n",
    "variable_binomial = []\n",
    "p = 0.35\n",
    "n = 10\n",
    "\n",
    "for iteracion in range(0,iteraciones):\n",
    "    \n",
    "    i = 0\n",
    "    c = p/(1-p)\n",
    "    pr = math.pow(1-p,n)\n",
    "    F = pr\n",
    "    \n",
    "    unif = random.random()\n",
    "    \n",
    "    while unif >= F:\n",
    "        pr = (c*((n-i)/(i+1)))*pr\n",
    "        F = F + pr\n",
    "        i = i + 1\n",
    "        \n",
    "    variable_binomial.append(i)\n",
    "\n",
    "binomial_simuladas = np.array(variable_binomial)"
   ]
  },
  {
   "cell_type": "code",
   "execution_count": 14,
   "id": "789d1663",
   "metadata": {},
   "outputs": [
    {
     "data": {
      "image/png": "[encoded data removed]",
      "text/plain": [
       "<Figure size 720x432 with 1 Axes>"
      ]
     },
     "metadata": {
      "needs_background": "light"
     },
     "output_type": "display_data"
    }
   ],
   "source": [
    "plt.figure(figsize=(10,6))\n",
    "plt.hist(binomial_simuladas, color = 'forestgreen', edgecolor = \"black\", linewidth=2 , density = True)\n",
    "plt.title(\"Variables aleatorias discretas Binomiales\",fontsize=20)\n",
    "plt.xlabel(\"Clases\", fontsize=15)\n",
    "plt.ylabel(\"Frecuencia\", fontsize=15)\n",
    "plt.show()"
   ]
  },
  {
   "cell_type": "code",
   "execution_count": 19,
   "id": "31537370",
   "metadata": {},
   "outputs": [
    {
     "name": "stdout",
     "output_type": "stream",
     "text": [
      "Promedio: 0.3493\n",
      "Varianza: 0.22811791179117905\n"
     ]
    }
   ],
   "source": [
    "print(\"Promedio: {}\".format(np.mean(binomial_simuladas)/n))\n",
    "print(\"Varianza: {}\".format((iteraciones/(iteraciones-1))*np.var(binomial_simuladas)/n))"
   ]
  }
 ],
 "metadata": {
  "kernelspec": {
   "display_name": "Python 3",
   "language": "python",
   "name": "python3"
  },
  "language_info": {
   "codemirror_mode": {
    "name": "ipython",
    "version": 3
   },
   "file_extension": ".py",
   "mimetype": "text/x-python",
   "name": "python",
   "nbconvert_exporter": "python",
   "pygments_lexer": "ipython3",
   "version": "3.9.5"
  }
 },
 "nbformat": 4,
 "nbformat_minor": 5
}

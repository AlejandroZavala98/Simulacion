{
 "cells": [
  {
   "cell_type": "markdown",
   "id": "9fdc52a9",
   "metadata": {},
   "source": [
    "# Método de congruencia lineal modular\n",
    "\n",
    "El método consiste en:\n",
    "\n",
    "$$z_{n+1} = (a z_{n} + c)mod (m)$$\n",
    "\n",
    "$z_{0} := $ Valor inicial o semilla\n",
    "\n",
    "$a := $ Multiplicador\n",
    "\n",
    "$c :=$ Incremento\n",
    "\n",
    "$m := $ Módulo\n"
   ]
  },
  {
   "cell_type": "code",
   "execution_count": 1,
   "id": "574fa276",
   "metadata": {},
   "outputs": [],
   "source": [
    "import pandas as pd\n",
    "import matplotlib.pyplot as plt\n",
    "a = 1\n",
    "z0 = 7\n",
    "m = 13\n",
    "c = 7\n",
    "n_numbers = 100 # Solo se generaran 100 numeros de ejemplo\n",
    "random_numbers = [[z0,\"\"]]\n",
    "for i in range(0,n_numbers):\n",
    "    z1=((a*z0)+c)%m  #Funcion modulo el #\n",
    "    random_numbers.append([z1,z1/m])\n",
    "    z0=z1\n",
    "random_summary = pd.DataFrame(random_numbers)\n",
    "random_summary.columns = [\"Aleatorios\", \"Uniformes\"]"
   ]
  },
  {
   "cell_type": "code",
   "execution_count": 2,
   "id": "110b3144",
   "metadata": {},
   "outputs": [
    {
     "data": {
      "text/html": [
       "<div>\n",
       "<style scoped>\n",
       "    .dataframe tbody tr th:only-of-type {\n",
       "        vertical-align: middle;\n",
       "    }\n",
       "\n",
       "    .dataframe tbody tr th {\n",
       "        vertical-align: top;\n",
       "    }\n",
       "\n",
       "    .dataframe thead th {\n",
       "        text-align: right;\n",
       "    }\n",
       "</style>\n",
       "<table border=\"1\" class=\"dataframe\">\n",
       "  <thead>\n",
       "    <tr style=\"text-align: right;\">\n",
       "      <th></th>\n",
       "      <th>Aleatorios</th>\n",
       "      <th>Uniformes</th>\n",
       "    </tr>\n",
       "  </thead>\n",
       "  <tbody>\n",
       "    <tr>\n",
       "      <th>0</th>\n",
       "      <td>7</td>\n",
       "      <td></td>\n",
       "    </tr>\n",
       "    <tr>\n",
       "      <th>1</th>\n",
       "      <td>1</td>\n",
       "      <td>0.076923</td>\n",
       "    </tr>\n",
       "    <tr>\n",
       "      <th>2</th>\n",
       "      <td>8</td>\n",
       "      <td>0.615385</td>\n",
       "    </tr>\n",
       "    <tr>\n",
       "      <th>3</th>\n",
       "      <td>2</td>\n",
       "      <td>0.153846</td>\n",
       "    </tr>\n",
       "    <tr>\n",
       "      <th>4</th>\n",
       "      <td>9</td>\n",
       "      <td>0.692308</td>\n",
       "    </tr>\n",
       "  </tbody>\n",
       "</table>\n",
       "</div>"
      ],
      "text/plain": [
       "   Aleatorios Uniformes\n",
       "0           7          \n",
       "1           1  0.076923\n",
       "2           8  0.615385\n",
       "3           2  0.153846\n",
       "4           9  0.692308"
      ]
     },
     "execution_count": 2,
     "metadata": {},
     "output_type": "execute_result"
    }
   ],
   "source": [
    "random_summary.head()"
   ]
  },
  {
   "cell_type": "code",
   "execution_count": 3,
   "id": "7100f6ee",
   "metadata": {},
   "outputs": [
    {
     "data": {
      "image/png": "[encoded data removed]",
      "text/plain": [
       "<Figure size 432x288 with 1 Axes>"
      ]
     },
     "metadata": {
      "needs_background": "light"
     },
     "output_type": "display_data"
    }
   ],
   "source": [
    "plt.hist(random_summary[\"Uniformes\"][1:], color='green',rwidth=0.85,density=True)\n",
    "plt.xlabel('Clases')\n",
    "plt.ylabel('Frecuencia')\n",
    "plt.title(\"Números pseudo-aleatorios por congruencia lineal\")\n",
    "plt.show()"
   ]
  },
  {
   "cell_type": "code",
   "execution_count": null,
   "id": "2c6c02e0",
   "metadata": {},
   "outputs": [],
   "source": []
  }
 ],
 "metadata": {
  "kernelspec": {
   "display_name": "Python 3",
   "language": "python",
   "name": "python3"
  },
  "language_info": {
   "codemirror_mode": {
    "name": "ipython",
    "version": 3
   },
   "file_extension": ".py",
   "mimetype": "text/x-python",
   "name": "python",
   "nbconvert_exporter": "python",
   "pygments_lexer": "ipython3",
   "version": "3.9.5"
  }
 },
 "nbformat": 4,
 "nbformat_minor": 5
}

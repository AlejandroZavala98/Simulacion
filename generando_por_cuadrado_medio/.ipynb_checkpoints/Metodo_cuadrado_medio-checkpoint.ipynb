{
 "cells": [
  {
   "cell_type": "markdown",
   "id": "e52059c6",
   "metadata": {},
   "source": [
    "# Método del cuadrado medio\n",
    "\n",
    "Uno de los primeros generadores fue el denominado método de los cuadrados medios propuesto por Von Neumann (1946). Con este procedimiento se generan números pseudoaleatorios de 4 dígitos de la siguiente forma:\n",
    "\n",
    "1. Se escoge un número de cuatro dígitos $$ x_{0}$$ \n",
    "\n",
    "2. Se eleva al cuadrado $$x_{0}^{2}$$\n",
    "\n",
    "3. Se toman los cuatro dígitos centrales $$x_{1}$$\n",
    "\n",
    "4. Se genera el número PSEUDO-ALEATORIO $$u_{1} = \\frac{x_{1}}{10000}$$\n",
    "\n",
    "El proceso se repite hasta conseguir la cantidad de números pseudo-aleatorios deseado."
   ]
  },
  {
   "cell_type": "code",
   "execution_count": 1,
   "id": "a7b16cd1",
   "metadata": {},
   "outputs": [],
   "source": [
    "import math\n",
    "import matplotlib.pyplot as plt"
   ]
  },
  {
   "cell_type": "code",
   "execution_count": 2,
   "id": "21f5e991",
   "metadata": {},
   "outputs": [],
   "source": [
    "nsemilla = 8319 # Semilla inicial\n",
    "iteraciones = 100 # cantidad de numeros a generar \n",
    "numbers_random = []\n",
    "for i in range(0,iteraciones):\n",
    "    num = math.pow(nsemilla,2)\n",
    "    qudc = num/100 #quitar ultimas dos cifras\n",
    "    n1 = math.floor(qudc)  #convierte el numero a entero\n",
    "    ncd = n1%10000 #Numero de 4 digitos\n",
    "    numbers_random.append(ncd/10000) \n",
    "    nsemilla = ncd # Actualiza semilla"
   ]
  },
  {
   "cell_type": "code",
   "execution_count": 3,
   "id": "e098b8dc",
   "metadata": {},
   "outputs": [
    {
     "data": {
      "image/png": "[encoded data removed]",
      "text/plain": [
       "<Figure size 432x288 with 1 Axes>"
      ]
     },
     "metadata": {
      "needs_background": "light"
     },
     "output_type": "display_data"
    }
   ],
   "source": [
    "plt.hist(numbers_random, color = 'magenta',density=True)\n",
    "plt.xlabel('Clases')\n",
    "plt.ylabel('Frecuencia')\n",
    "plt.title(\"Números pseudo-aleatorios por cuadrado medio\")\n",
    "plt.show()"
   ]
  }
 ],
 "metadata": {
  "kernelspec": {
   "display_name": "Python 3",
   "language": "python",
   "name": "python3"
  },
  "language_info": {
   "codemirror_mode": {
    "name": "ipython",
    "version": 3
   },
   "file_extension": ".py",
   "mimetype": "text/x-python",
   "name": "python",
   "nbconvert_exporter": "python",
   "pygments_lexer": "ipython3",
   "version": "3.9.5"
  }
 },
 "nbformat": 4,
 "nbformat_minor": 5
}
